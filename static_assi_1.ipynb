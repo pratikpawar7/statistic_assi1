{
 "cells": [
  {
   "cell_type": "code",
   "execution_count": null,
   "id": "caeeb245-f7e6-426c-9b1f-3bd3a1f25715",
   "metadata": {},
   "outputs": [],
   "source": [
    "'''\n",
    "Q1. What is Statistics?\n",
    "'''\n",
    "statistics is at the core of sophisticated machine learning algorithms, capturing \n",
    "and translating data patterns into actionable evidence.\n",
    "Data scientists use statistics to gather, review, analyze, and draw conclusions from data, \n",
    "as well as apply quantified mathematical models to appropriate variables.\n"
   ]
  },
  {
   "cell_type": "code",
   "execution_count": null,
   "id": "78791c89-63fc-4104-a04a-a1e2e69175df",
   "metadata": {},
   "outputs": [],
   "source": [
    "'''\n",
    "Q2. Define the different types of statistics and give an example of when each type might be used.\n",
    "'''\n",
    "There are two types of statistic 1.Discriptive statistics and 2.inferential statistics\n",
    "\n",
    "Descriptive Statistics: \n",
    "    Descriptive statistics involves summarizing and describing data through numerical or graphical measures. \n",
    "    It helps to identify patterns and trends in the data, and to understand the characteristics of a particular group or population\n",
    "    \n",
    "    Example :\n",
    "         Calculating the average height of students in a class, or creating a bar chart to show the distribution of ages in a population\n",
    "    \n",
    "inferential Statistics:\n",
    "    Inferential statistics involves making inferences about a population based on a sample of data. \n",
    "    It helps to test hypotheses, make predictions, and estimate the parameters of a population based on a sample.\n",
    "    \n",
    "    Example : \n",
    "        Conducting a hypothesis test to determine if a new medication is more effective than an existing one,\n",
    "        or using regression analysis to predict sales based on advertising expenditure.\n",
    "    "
   ]
  },
  {
   "cell_type": "code",
   "execution_count": null,
   "id": "9e4bc746-f958-491e-81aa-52ccd334630c",
   "metadata": {},
   "outputs": [],
   "source": [
    "'''\n",
    "Q3. What are the different types of data and how do they differ from each other? Provide an example of\n",
    "each type of data.\n",
    "'''\n",
    "Qualitative Data: This type of data is descriptive and deals with qualities, characteristics, and attributes\n",
    "                that cannot be easily quantified or measured numerically.\n",
    "                Examples of qualitative data include descriptions of emotions, opinions, beliefs, and attitudes.\n",
    "    \n",
    "Quantitative Data: This type of data is numerical and deals with quantities and measurements that can be counted or measured objectively.\n",
    "                    Quantitative data is typically collected through surveys\n",
    "                Examples of quantitative data include age, weight, height, income, and test scores.\n",
    "        \n",
    "    "
   ]
  },
  {
   "cell_type": "code",
   "execution_count": null,
   "id": "c911aa56-8507-4ef6-8690-006ba99de0f3",
   "metadata": {},
   "outputs": [],
   "source": [
    "'''\n",
    "Q4. Categorise the following datasets with respect to quantitative and qualitative data types:\n",
    "(i) Grading in exam: A+, A, B+, B, C+, C, D, E\n",
    "(ii) Colour of mangoes: yellow, green, orange, red\n",
    "(iii) Height data of a class: [178.9, 179, 179.5, 176, 177.2, 178.3, 175.8,...]\n",
    "(iv) Number of mangoes exported by a farm: [500, 600, 478, 672, ...]\n",
    "\n",
    "'''\n",
    "\n",
    "quantitative data type :\n",
    "    (iii) Height data of a class: [178.9, 179, 179.5, 176, 177.2, 178.3, 175.8,...]\n",
    "    (iv) Number of mangoes exported by a farm: [500, 600, 478, 672, ...]\n",
    "    \n",
    "qualitative  data type : \n",
    "    (i) Grading in exam: A+, A, B+, B, C+, C, D, E\n",
    "    (ii) Colour of mangoes: yellow, green, orange, red\n",
    "    "
   ]
  },
  {
   "cell_type": "code",
   "execution_count": null,
   "id": "4052fb3a-1416-488d-8d1f-d84604a0c32c",
   "metadata": {},
   "outputs": [],
   "source": [
    "'''\n",
    "Q5. Explain the concept of levels of measurement and give an example of a variable for each level.\n",
    "'''\n",
    "Nominal level: This level of measurement involves variables that can be categorized into distinct groups, \n",
    "            but there is no inherent order or ranking to the categories. \n",
    "            Examples of nominal level variables include gender, ethnicity, and political affiliation.\n",
    "\n",
    "Ordinal level: This level of measurement involves variables that can be ranked or ordered,\n",
    "                but the differences between the rankings are not necessarily equal. \n",
    "                Examples of ordinal level variables include socioeconomic status, educational level\n",
    "\n",
    "Interval level: This level of measurement involves variables that can be ranked and the differences between values are equal, \n",
    "                but there is no true zero point.\n",
    "                Examples of interval level variables include temperature (measured in Celsius or Fahrenheit) and IQ scores.\n",
    "\n",
    "Ratio level: This level of measurement involves variables that can be ranked, the differences between values are equal, \n",
    "                and there is a true zero point. \n",
    "                Examples of ratio level variables include height, weight, and income"
   ]
  },
  {
   "cell_type": "code",
   "execution_count": null,
   "id": "204dcb39-187e-4ce6-a53f-fee516b900f7",
   "metadata": {},
   "outputs": [],
   "source": [
    "'''\n",
    "Q6. Why is it important to understand the level of measurement when analyzing data? Provide an\n",
    "example to illustrate your answer.\n",
    "'''\n",
    "\n",
    "It is important to understand the level of measurment because each data has requied differnt statistic \n",
    "if we fail to understand the level of measurment then we also fail to output an approsiate result \n",
    "\n",
    "for example if we analyse the relationship  of income and age then we have to know that income is interval type of data and \n",
    " and age is ratio scale data then use appropriate type for this different type of data \n",
    "    \n",
    "therefore if we fail to understand the level of measurment of data then there is unappropriate of data "
   ]
  },
  {
   "cell_type": "code",
   "execution_count": null,
   "id": "078e6a0f-a4cc-4bbe-a9a6-a183f99b9207",
   "metadata": {},
   "outputs": [],
   "source": [
    "'''\n",
    "Q7. How nominal data type is different from ordinal data type.\n",
    "'''\n",
    "Nominal data is the simplest type of categorical data and represents data that can be categorized into distinct groups,\n",
    "    but there is no inherent order or ranking to these categories.\n",
    "    Nominal data can be expressed in words or numbers, but the categories do not have any numerical significance.\n",
    "    Examples of nominal data include gender (male, female), ethnicity (Asian, African American, Caucasian), and favorite color (red, blue, green).\n",
    "\n",
    "Ordinal data, on the other hand, is a type of categorical data that has a natural order or ranking to the categories. \n",
    "    The categories can be ranked from lowest to highest or vice versa.\n",
    "    Examples of ordinal data include educational level (high school, college, post-graduate), job titles (entry-level, manager, director)"
   ]
  },
  {
   "cell_type": "code",
   "execution_count": null,
   "id": "8f84071b-f162-44ac-9dec-d774bafc972b",
   "metadata": {},
   "outputs": [],
   "source": [
    "'''\n",
    "Q8. Which type of plot can be used to display data in terms of range?\n",
    "'''\n",
    "\n",
    "One common type of plot used to display data in the form of a range is a box plot, also known as a box-and-whisker plot.\n",
    "\n",
    "A box plot provides a graphical representation of the distribution of a set of numerical data. \n",
    "It displays the median, quartiles, and outliers of the data. \n",
    "The box in the plot represents the interquartile range (IQR) of the data,\n",
    "which is the range of values that lie between the first and third quartiles. "
   ]
  },
  {
   "cell_type": "code",
   "execution_count": null,
   "id": "67e908a4-38d1-4a33-b80e-494ea7581f28",
   "metadata": {},
   "outputs": [],
   "source": [
    "'''\n",
    "Q9. Describe the difference between descriptive and inferential statistics. Give an example of each\n",
    "type of statistics and explain how they are used.\n",
    "'''\n"
   ]
  },
  {
   "cell_type": "code",
   "execution_count": null,
   "id": "2b56c472-73d7-44b4-ba86-d87d1bb390bf",
   "metadata": {},
   "outputs": [],
   "source": []
  },
  {
   "cell_type": "code",
   "execution_count": null,
   "id": "3de395db-a0f7-4465-a55f-c8f7c5b99913",
   "metadata": {},
   "outputs": [],
   "source": []
  }
 ],
 "metadata": {
  "kernelspec": {
   "display_name": "Python 3 (ipykernel)",
   "language": "python",
   "name": "python3"
  },
  "language_info": {
   "codemirror_mode": {
    "name": "ipython",
    "version": 3
   },
   "file_extension": ".py",
   "mimetype": "text/x-python",
   "name": "python",
   "nbconvert_exporter": "python",
   "pygments_lexer": "ipython3",
   "version": "3.10.8"
  }
 },
 "nbformat": 4,
 "nbformat_minor": 5
}
